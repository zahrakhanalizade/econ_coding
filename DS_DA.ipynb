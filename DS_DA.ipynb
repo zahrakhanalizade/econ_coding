{
  "nbformat": 4,
  "nbformat_minor": 0,
  "metadata": {
    "colab": {
      "provenance": []
    },
    "kernelspec": {
      "name": "python3",
      "display_name": "Python 3"
    },
    "language_info": {
      "name": "python"
    }
  },
  "cells": [
    {
      "cell_type": "markdown",
      "source": [
        "# Table of Content\n",
        "\n",
        "1. [Data Structures](#data-structures)\n",
        "  - [Heap](#heap)\n",
        "2. [Algorithms Cheatsheets](#algorithm_cheatsheets)\n",
        "  - [Arrays & Two-Pointers](#arrays--two-pointers)\n",
        "  - [Searching & Sorting](#searching--sorting)\n",
        "  - [Graphs](#graphs)\n",
        "  - [Strings](#strings)\n",
        "  - [Dynamic Programming & Greedy](#dynamic-programming--greedy)\n",
        "  - [Range & Order Statistics](#range--order-statistics)\n",
        "  - [Math / Misc](#math--misc)"
      ],
      "metadata": {
        "id": "hXOEj7m17LGe"
      }
    },
    {
      "cell_type": "markdown",
      "source": [
        "<a name=\"data-structures\"> </a>\n",
        "# 1. Data Structures\n",
        "\n",
        "<a name=\"heap\"></a>\n",
        "## **Heap**\n",
        "\n",
        "\n",
        "A **heap** is a complete binary tree where each parent is ≤ (min-heap) or ≥ (max-heap) its children.  \n",
        "Python’s built-in [`heapq`](https://docs.python.org/3/library/heapq.html) implements a **min-heap** using a list.\n",
        "\n",
        "To simulate a **max-heap**, store **negated values** (e.g., `-value`).\n",
        "\n",
        "**Key functions (heapq)**:\n",
        "- `heapify(x)`: in-place convert list `x` into a heap. **O(n)**.\n",
        "- `heappush(heap, item)`: push `item` into heap, maintaining heap property. **O(log n)**.\n",
        "- `heappop(heap)`: pop and return smallest item. **O(log n)**.\n",
        "- `heappushpop(heap, item)`: push `item` then pop smallest, more efficient than separate ops. **O(log n)**.\n",
        "- `heapreplace(heap, item)`: pop smallest, then push `item` (heap must be non-empty). **O(log n)**.\n",
        "- `nlargest(k, iterable)` / `nsmallest(k, iterable)`: return top `k` items. **O(n log k)**.\n",
        "\n",
        "**Complexities**:\n",
        "\n",
        "| Operation          | Time     |\n",
        "|--------------------|----------|\n",
        "| `heapify`          | O(n)     |\n",
        "| `heappush`         | O(log n) |\n",
        "| `heappop`          | O(log n) |\n",
        "| `heappushpop`      | O(log n) |\n",
        "| `heapreplace`      | O(log n) |\n",
        "| `nlargest/nsmallest` | O(n log k) |\n"
      ],
      "metadata": {
        "id": "dk6tABay7cAO"
      }
    },
    {
      "cell_type": "code",
      "source": [
        "import heapq\n",
        "# This is Python's built-in heap structure that implements a min-heap\n",
        "# For a max-heap, just negate all the values.\n",
        "\n",
        "x = [100, 3, 25, 19, 2, 7, 36, 17, 1]\n",
        "heapq.heapify(x)\n",
        "# This transforms list x into a min-heap, in-place, in linear time.\n",
        "\n",
        "# Display the heap as a list\n",
        "display(x)"
      ],
      "metadata": {
        "colab": {
          "base_uri": "https://localhost:8080/",
          "height": 34
        },
        "id": "kaRE3me47wSL",
        "outputId": "14c0a30f-2e37-4600-924e-b1cbda43ab2a"
      },
      "execution_count": 31,
      "outputs": [
        {
          "output_type": "display_data",
          "data": {
            "text/plain": [
              "[1, 2, 7, 3, 100, 25, 36, 17, 19]"
            ]
          },
          "metadata": {}
        }
      ]
    },
    {
      "cell_type": "code",
      "source": [
        "# To simulate a max-heap, negate all values before heapifying\n",
        "x_negated = [-val for val in x]\n",
        "heapq.heapify(x_negated)\n",
        "\n",
        "# Display the max heap (negate back to original values)\n",
        "display([-val for val in x_negated])"
      ],
      "metadata": {
        "colab": {
          "base_uri": "https://localhost:8080/",
          "height": 34
        },
        "id": "3QrOi9eo-dIH",
        "outputId": "2ff04366-2d89-4de2-f938-f025a7083c8e"
      },
      "execution_count": 32,
      "outputs": [
        {
          "output_type": "display_data",
          "data": {
            "text/plain": [
              "[100, 19, 36, 17, 2, 25, 7, 1, 3]"
            ]
          },
          "metadata": {}
        }
      ]
    },
    {
      "cell_type": "markdown",
      "source": [
        "**Note**: A list can be heapified in more than one way! In other words, a heapified tree of a list is not unique."
      ],
      "metadata": {
        "id": "pyNCLYryE6HL"
      }
    },
    {
      "cell_type": "code",
      "source": [
        "heapq.heappush(x_negated, -987)\n",
        "# Remember to push the nagative of a value to a max-heap rather the value itself.\n",
        "print(f\"Max-heap: {[-val for val in x_negated]}\")\n",
        "\n",
        "# To find k smallest in max-heap, use \"nlargest\" instead! And vice versa.\n",
        "print(f\"3 smallest values in our max-heap are: {[-val for val in heapq.nlargest(3, x_negated)]}\")\n",
        "\n",
        "print(f\"5 largest values in our max-heap are: {[-val for val in heapq.nsmallest(5, x_negated)]}\")\n",
        "\n",
        "# You can see the root without popping, in O(1)\n",
        "print(f\"Max is: {-x_negated[0]}\")"
      ],
      "metadata": {
        "colab": {
          "base_uri": "https://localhost:8080/"
        },
        "id": "_Sozplo1CSoO",
        "outputId": "963aa0fa-81c1-4833-97e1-43c0675afb02"
      },
      "execution_count": 33,
      "outputs": [
        {
          "output_type": "stream",
          "name": "stdout",
          "text": [
            "Max-heap: [987, 100, 36, 17, 19, 25, 7, 1, 3, 2]\n",
            "3 smallest values in our max-heap are: [1, 2, 3]\n",
            "5 largest values in our max-heap are: [987, 100, 36, 25, 19]\n",
            "Max is: 987\n"
          ]
        }
      ]
    },
    {
      "cell_type": "markdown",
      "source": [
        "**When & Why to Use a Max-Heap**\n",
        "\n",
        "Max-heaps are ideal when you need fast access to the largest element but don’t need full sorting.\n",
        "\n",
        "**Typical Applications**\n",
        "\n",
        "\n",
        "1.   Priority Queue\n",
        "  - Always serve the task with the highest priority first\n",
        "\n",
        "  - Examples: job scheduling, event simulation\n",
        "2.   Heap Sort\n",
        "  - Repeatedly pop max, producing sorted order (`O(n log n)`)\n",
        "\n",
        "3. Top-K problems\n",
        "\n",
        "  - Keep heap of size K; push/pop to maintain largest K seen so far (`O(n log k)`)\n",
        "\n",
        "4. Median maintenance\n",
        "\n",
        "  - Use a max-heap for the lower half and a min-heap for the upper half; supports `O(log n)` inserts and `O(1)` median retrieval.\n",
        "\n",
        "5. Graph algorithms\n",
        "\n",
        "  - Prim’s MST: pick next max (or min in usual form) weight edge via heap\n",
        "\n",
        "  - Dijkstra’s (min version): extract closest node\n",
        "\n",
        "  - A*: extract node with best priority value\n",
        "6. Event simulation\n",
        "\n",
        "  - Process events in order of priority/time\n",
        "\n",
        "7. Order statistics\n",
        "\n",
        "  - Find k-th largest by popping k times (`O(k log n)`)\n"
      ],
      "metadata": {
        "id": "i7WGtxFmBpYL"
      }
    },
    {
      "cell_type": "code",
      "source": [
        "# Easy peasy heap sort, in O(nlogn):\n",
        "\n",
        "def heap_sort(x: list) -> list:\n",
        "  heapq.heapify(x) # O(n)\n",
        "  return [heapq.heappop(x) for _ in range(len(x))] # O(n)*O(log n)\n",
        "\n",
        "print(heap_sort([2829, 192, 232, 2938, 32, 4, 3, 2, 222, -1, 222]))"
      ],
      "metadata": {
        "colab": {
          "base_uri": "https://localhost:8080/"
        },
        "id": "Qw8Ts7bvFMpV",
        "outputId": "f574ff9a-47b9-45fe-d73f-b2c7c682eca0"
      },
      "execution_count": 34,
      "outputs": [
        {
          "output_type": "stream",
          "name": "stdout",
          "text": [
            "[-1, 2, 3, 4, 32, 192, 222, 222, 232, 2829, 2938]\n"
          ]
        }
      ]
    },
    {
      "cell_type": "markdown",
      "source": [
        "<a name=\"algorithm_cheatsheets\"> </a>\n",
        "# 2. Algorithm Cheatsheets\n",
        "\n",
        "<a name=\"arrays--two-pointers\"> </a>\n",
        "\n",
        "**Arrays & Two-Pointers**\n",
        "- **Two-Sum** — find i,j with `A[i]+A[j]=t`  \n",
        "  Inputs: array `A`, target `t` | Output: indices/pairs  \n",
        "  Idea: one pass; hash map of complements.  \n",
        "  Time **O(n)**, Space **O(n)**.\n",
        "\n",
        "- **3-Sum** — unique triplets sum to `t` (often 0)  \n",
        "  Inputs: array `A` | Output: list of triplets  \n",
        "  Idea: sort (**O(n log n)**); outer loop (**O(n)**); two-pointer per `i` (**O(n)**).  \n",
        "  Time **O(n²)**, Space **O(1)** extra (beyond sort).\n",
        "\n",
        "- **4-Sum / k-Sum** — k numbers sum to `t`  \n",
        "  Inputs: `A`, `k`, `t` | Output: k-tuples  \n",
        "  Idea: sort; recurse to 2-sum; dedupe.  \n",
        "  Time **O(n^(k−1))**, Space **O(k)** recursion.\n",
        "\n",
        "- **Merge Intervals** — union overlapping `[l,r]`  \n",
        "  Inputs: intervals | Output: merged intervals  \n",
        "  Idea: sort by start; scan, extend or push.  \n",
        "  Time **O(n log n)**, Space **O(n)**.\n",
        "\n",
        "- **Interval Scheduling (max non-overlap)**  \n",
        "  Inputs: intervals | Output: max set size  \n",
        "  Idea: sort by end; greedily pick next finishing.  \n",
        "  Time **O(n log n)**, Space **O(1)**.\n",
        "\n",
        "- **Meeting Rooms (min rooms)**  \n",
        "  Inputs: intervals | Output: min concurrent  \n",
        "  Idea: sort starts/ends; two pointers; track max active.  \n",
        "  Time **O(n log n)**, Space **O(1)**.\n",
        "\n",
        "- **Sliding Window – Longest substring w/o repeat**  \n",
        "  Inputs: string `s` | Output: length/window  \n",
        "  Idea: expand right; last-seen map; move left past repeats.  \n",
        "  Time **O(n)**, Space **O(Σ)**.\n",
        "\n",
        "- **Kadane’s** — max subarray sum:\n",
        "\n",
        "  Given an integer array, find the subarray which has the maximum possible sum, and return that sum.\n",
        "  Note: A subarray is a continuous part of an array.  \n",
        "  Inputs: array | Output: max sum  \n",
        "  Idea: running best/end-here DP.  \n",
        "  Time **O(n)**, Space **O(1)**.\n",
        "\n",
        "- **Quickselect (k-th smallest)**  \n",
        "  Inputs: array, `k` | Output: value  \n",
        "  Idea: partition by pivot; recurse on one side.  \n",
        "  Avg **O(n)**, Worst **O(n²)**, Space **O(1)** (+ stack).\n"
      ],
      "metadata": {
        "id": "BhpYXRKWMpyg"
      }
    },
    {
      "cell_type": "markdown",
      "source": [
        "<a name=\"searching--sorting\"> </a>\n",
        "\n",
        "---\n",
        "\n",
        "**Searching & Sorting**\n",
        "- **Binary Search** — position/existence in sorted `A`  \n",
        "  Inputs: sorted array, `x` | Output: index/bool  \n",
        "  Idea: halve search space.  \n",
        "  Time **O(log n)**, Space **O(1)**.\n",
        "\n",
        "- **Quicksort** — in-place sort  \n",
        "  Idea: partition by pivot; recurse.  \n",
        "  Avg **O(n log n)**, Worst **O(n²)**, Space **O(log n)** stack.\n",
        "\n",
        "- **Mergesort** — stable sort  \n",
        "  Idea: divide; sort halves; merge.  \n",
        "  Time **O(n log n)**, Space **O(n)**.\n",
        "\n",
        "- **Heapsort** — in-place via heap  \n",
        "  Idea: build max-heap; pop to end.  \n",
        "  Time **O(n log n)**, Space **O(1)**.\n",
        "\n",
        "---"
      ],
      "metadata": {
        "id": "pXUSfQ9FNHpS"
      }
    },
    {
      "cell_type": "markdown",
      "source": [],
      "metadata": {
        "id": "spNBvIpFNHsb"
      }
    },
    {
      "cell_type": "markdown",
      "source": [
        "<a name=\"graphs\"> </a>\n",
        "\n",
        "\n",
        "**Graphs**\n",
        "- **BFS** — shortest path (unweighted)  \n",
        "  Inputs: adj list, source | Output: `dist`, parents  \n",
        "  Idea: queue by layers.  \n",
        "  Time **O(n+m)**, Space **O(n)**.\n",
        "\n",
        "- **DFS** — traversal/components/cycle detect  \n",
        "  Idea: stack/recursion.  \n",
        "  Time **O(n+m)**, Space **O(n)**.\n",
        "\n",
        "- **Topological Sort (Kahn)** — DAG order  \n",
        "  Inputs: DAG | Output: topo order/None  \n",
        "  Idea: indegree-0 queue; pop/reduce.  \n",
        "  Time **O(n+m)**, Space **O(n)**.\n",
        "\n",
        "- **Dijkstra** — shortest paths (non-neg weights)  \n",
        "  Inputs: graph, source | Output: `dist[]`  \n",
        "  Idea: min-heap over tentative dists; relax edges.  \n",
        "  Time **O((n+m) log n)**, Space **O(n+m)**.\n",
        "\n",
        "- **Bellman–Ford** — handles negatives  \n",
        "  Inputs: edges, source | Output: `dist[]`, cycle flag  \n",
        "  Idea: relax all edges `V−1` times; extra pass for cycle.  \n",
        "  Time **O(n·m)**, Space **O(n)**.\n",
        "\n",
        "- **Floyd–Warshall** — all-pairs shortest paths  \n",
        "  Inputs: weighted dense graph | Output: `n×n` `dist`  \n",
        "  Idea: DP over intermediate vertex `k`.  \n",
        "  Time **O(n³)**, Space **O(n²)**.\n",
        "\n",
        "- **Kruskal (MST)**  \n",
        "  Inputs: weighted edges | Output: MST cost/edges  \n",
        "  Idea: sort edges; DSU union if no cycle.  \n",
        "  Time **O(m log n)**, Space **O(n)**.\n",
        "\n",
        "- **Prim (MST)**  \n",
        "  Inputs: weighted graph | Output: MST  \n",
        "  Idea: grow tree with min edge via heap.  \n",
        "  Time **O(m log n)**, Space **O(n)**.\n",
        "\n",
        "- **Union–Find (DSU)** — connectivity ops  \n",
        "  Ops: `find/union` with compression + rank.  \n",
        "  Amortized **~O(α(n))**, Space **O(n)**.\n",
        "\n",
        "- **Bipartite Check**  \n",
        "  Inputs: graph | Output: yes/no + coloring  \n",
        "  Idea: BFS/DFS 2-color; fail on odd cycle.  \n",
        "  Time **O(n+m)**, Space **O(n)**.\n",
        "\n",
        "---"
      ],
      "metadata": {
        "id": "IOLLCe5eNHvK"
      }
    },
    {
      "cell_type": "markdown",
      "source": [
        "<a name=\"strings\"> </a>\n",
        "\n",
        "\n",
        "**Strings**\n",
        "- **KMP** — substring search  \n",
        "  Inputs: text `T`, pattern `P` | Output: matches  \n",
        "  Idea: build LPS of `P`; scan `T` with fallback.  \n",
        "  Time **O(|T|+|P|)**, Space **O(|P|)**.\n",
        "\n",
        "- **Rabin–Karp** — rolling hash search  \n",
        "  Inputs: `T`, `P` (or many same length) | Output: matches  \n",
        "  Idea: rolling hash compare; verify on hits.  \n",
        "  Avg **O(|T|+|P|)**, Worst **O(|T||P|)**, Space **O(1)**.\n",
        "\n",
        "- **Z-Algorithm** — prefix matches per position  \n",
        "  Inputs: string `S` | Output: `Z` array  \n",
        "  Idea: maintain `[L,R]` box to reuse matches.  \n",
        "  Time **O(n)**, Space **O(n)**.\n",
        "\n",
        "- **Trie** — prefix dictionary  \n",
        "  Ops: insert/search/prefix  \n",
        "  Time **O(L)** per op, Space **O(total chars)**.\n",
        "\n",
        "- **Edit Distance (Levenshtein)**  \n",
        "  Inputs: strings `a,b` | Output: min edits  \n",
        "  Idea: DP over `i,j` with ins/del/subst.  \n",
        "  Time **O(|a||b|)**, Space **O(min(|a|,|b|))**.\n",
        "\n",
        "- **LCS (Longest Common Subsequence)**  \n",
        "  Inputs: `a,b` | Output: length/sequence  \n",
        "  Idea: DP grid; backtrack for sequence.  \n",
        "  Time **O(|a||b|)**, Space **O(min(|a|,|b|))** (length only).\n",
        "\n",
        "---"
      ],
      "metadata": {
        "id": "xQGEn02JNPZe"
      }
    },
    {
      "cell_type": "markdown",
      "source": [
        "<a name=\"dynamic-programming--greedy\"> </a>\n",
        "\n",
        "\n",
        "**Dynamic Programming & Greedy**\n",
        "- **0/1 Knapsack** — max value ≤ capacity  \n",
        "  Inputs: weights, values, `W` | Output: best value  \n",
        "  Idea: DP over capacity; iterate items backward.  \n",
        "  Time **O(nW)**, Space **O(W)**.\n",
        "\n",
        "- **Unbounded Knapsack / Coin Change**  \n",
        "  Inputs: coins, amount | Output: min coins/ways  \n",
        "  Idea: DP increasing capacity; reuse current row.  \n",
        "  Time **O(n·A)**, Space **O(A)**.\n",
        "\n",
        "- **LIS (n log n)** — longest increasing subseq length  \n",
        "  Inputs: array | Output: length/(+path)  \n",
        "  Idea: patience piles; binary search pile tops.  \n",
        "  Time **O(n log n)**, Space **O(n)**.\n",
        "\n",
        "- **Matrix Exponentiation** — fast DP transitions  \n",
        "  Inputs: matrix `k×k`, exponent `e` | Output: `M^e`  \n",
        "  Idea: binary exponentiation (square & multiply).  \n",
        "  Time **O(k³ log e)**, Space **O(k²)**.\n",
        "\n",
        "- **Activity Selection (greedy)** — max non-overlap  \n",
        "  Idea: sort by finish time; take compatible.  \n",
        "  Time **O(n log n)**, Space **O(1)**.\n",
        "\n",
        "---"
      ],
      "metadata": {
        "id": "_V3Jv5yyNPiM"
      }
    },
    {
      "cell_type": "markdown",
      "source": [
        "<a name=\"range--order-statistics\"> </a>\n",
        "\n",
        "\n",
        "**Range & Order Statistics**\n",
        "- **Prefix Sums / Difference Array** — range sums/updates  \n",
        "  Build prefix **O(n)**; query **O(1)**.  \n",
        "  Diff: range add **O(1)** per update; finalize with prefix.  \n",
        "  Space **O(n)**.\n",
        "\n",
        "- **Fenwick Tree (BIT)** — point update + prefix sum  \n",
        "  Ops: update/query **O(log n)**, Space **O(n)**.\n",
        "\n",
        "- **Segment Tree** — range query/update (sum/min/max)  \n",
        "  Build **O(n)**; query/update **O(log n)**; lazy for range updates.  \n",
        "  Space **O(n)**.\n",
        "\n",
        "- **Top-K Elements** — largest `k`  \n",
        "  Idea: min-heap of size `k` over stream.  \n",
        "  Time **O(n log k)**, Space **O(k)**.\n",
        "\n",
        "---"
      ],
      "metadata": {
        "id": "nFfQtX24NPlV"
      }
    },
    {
      "cell_type": "markdown",
      "source": [
        "<a name=\"math--misc\"> </a>\n",
        "\n",
        "\n",
        "**Math / Misc**\n",
        "- **Binary Exponentiation (pow / pow mod)**  \n",
        "  Inputs: `a`, `e`, (mod) | Output: `a^e`  \n",
        "  Idea: square-and-multiply by bits.  \n",
        "  Time **O(log e)**, Space **O(1)**.\n",
        "\n",
        "- **Sweep Line (events)** — max overlap/skyline  \n",
        "  Idea: sort endpoints; scan counting active.  \n",
        "  Time **O(n log n)**, Space **O(n)**."
      ],
      "metadata": {
        "id": "yQ91PXZVNXU-"
      }
    },
    {
      "cell_type": "code",
      "source": [],
      "metadata": {
        "id": "Z1vtWb2YNB6i"
      },
      "execution_count": null,
      "outputs": []
    }
  ]
}