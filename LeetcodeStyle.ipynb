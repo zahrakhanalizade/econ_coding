{
  "nbformat": 4,
  "nbformat_minor": 0,
  "metadata": {
    "colab": {
      "provenance": []
    },
    "kernelspec": {
      "name": "python3",
      "display_name": "Python 3"
    },
    "language_info": {
      "name": "python"
    }
  },
  "cells": [
    {
      "cell_type": "markdown",
      "source": [
        "A*'s Problem:\n",
        "\n",
        "You are programming for a self driving car system. The system is given a 2D map of a city, where each point represents a traffic light. All the traffic lights are RED at the beginning, which means the car cannot pass through them. The number of each point represents the time after which a light will turn GREEN meaning the car can pass through it.\n",
        "\n",
        "The car is asked to drive from the top left corner to the right bottom corner. The car can only drive in the right or down direction. Please find the earliest time that the car can get to the destination.\n",
        "\n",
        "** A is a friend of mine who helped me preparing for leetcode questions with a mock interview.\n"
      ],
      "metadata": {
        "id": "m7M824jW-gTI"
      }
    },
    {
      "cell_type": "code",
      "execution_count": 1,
      "metadata": {
        "colab": {
          "base_uri": "https://localhost:8080/"
        },
        "id": "qc_UA5E28ZJ9",
        "outputId": "cc575948-5773-4379-aad8-3a553ef7dc71"
      },
      "outputs": [
        {
          "output_type": "execute_result",
          "data": {
            "text/plain": [
              "[[1, 2, 0, 3], [4, 6, 5, 1], [9, 2, 5, 7], [5, 4, 2, 2]]"
            ]
          },
          "metadata": {},
          "execution_count": 1
        }
      ],
      "source": [
        "# Sample input:\n",
        "# A=\n",
        "\n",
        "# 1 2 0 3\n",
        "# 4 6 5 1\n",
        "# 9 2 5 7\n",
        "# 5 4 2 2\n",
        "\n",
        "# Sample output\n",
        "\n",
        "# 5\n",
        "\n",
        "A = [[1, 2, 0, 3], [4, 6, 5, 1], [9, 2, 5, 7], [5, 4, 2, 2]]\n",
        "A"
      ]
    },
    {
      "cell_type": "markdown",
      "source": [
        "First solution: Find all paths and for each path, find the maximum element, and then find the minimum of those maximum values across all paths. This is exponential time (number of paths is $2^n$, so exponential. )\n",
        "\n",
        "Since there is so many (exponential) paths, I'll think about a better solution.\n",
        "\n",
        "I can use recursion. Here is \"a\" recursion:\n",
        "Start from the bottom (destination node), and go bottom-up: For each node, the best path for it is the best out of the path upto the node above it and the node to the left of it. But if you code this recursion, it's still exponential, because the best path upto a node is being calculated multiple times (exactly the number of the paths the node is a part of.)\n",
        "\n",
        "So to make this better, we can use memorization, so we compute the value of best path upto a certain point only once and keep it in a dictionary.\n",
        "This makes the recursion be $O(n^2)$ although we add a memory of $O(n)$.\n",
        "\n"
      ],
      "metadata": {
        "id": "5XvPhVCG-1fl"
      }
    },
    {
      "cell_type": "code",
      "source": [
        "def smallest_path(A: list[list[int]]) -> int:\n",
        "  if A is None or len(A)==0:\n",
        "    return 0\n",
        "\n",
        "  best_time = {}\n",
        "\n",
        "  def recursive(n: int, m:int) -> int:\n",
        "    if (n,m) in best_time:\n",
        "      return best_time[(n,m)]\n",
        "\n",
        "    # Base cases:\n",
        "    if n==0 and m==0:\n",
        "      best_time[(n, m)] = A[0][0]\n",
        "      return A[0][0]\n",
        "    elif n==0:\n",
        "      best_time[(n, m)] = max(A[0][m], recursive(0, m-1))\n",
        "    elif m==0:\n",
        "      best_time[(n,m)] = max(A[n][0], recursive(n-1, 0))\n",
        "    else:\n",
        "      best_time[(n, m)] = min(max(A[n][m], recursive(n, m-1)) , max(A[n][m], recursive(n-1, m)))\n",
        "\n",
        "    return best_time[(n, m)]\n",
        "\n",
        "  n,m = len(A)-1, len(A[0])-1\n",
        "  return recursive(n,m)\n",
        "\n"
      ],
      "metadata": {
        "id": "fHWWCE-P95GW"
      },
      "execution_count": null,
      "outputs": []
    },
    {
      "cell_type": "code",
      "source": [
        "sp = smallest_path(A)\n",
        "print(sp)"
      ],
      "metadata": {
        "colab": {
          "base_uri": "https://localhost:8080/"
        },
        "id": "XQ7RomXbBzmO",
        "outputId": "9f8a9eaf-53eb-4584-975e-fd157c6b5f22"
      },
      "execution_count": null,
      "outputs": [
        {
          "output_type": "stream",
          "name": "stdout",
          "text": [
            "5\n"
          ]
        }
      ]
    },
    {
      "cell_type": "code",
      "source": [
        "print(smallest_path([]))"
      ],
      "metadata": {
        "colab": {
          "base_uri": "https://localhost:8080/"
        },
        "id": "c7zmYxjJDpSm",
        "outputId": "c841e125-1863-4010-f106-246f8334abbc"
      },
      "execution_count": null,
      "outputs": [
        {
          "output_type": "stream",
          "name": "stdout",
          "text": [
            "0\n"
          ]
        }
      ]
    },
    {
      "cell_type": "markdown",
      "source": [
        "# Python functions:\n",
        "Enumerating lists and dicitonaries:"
      ],
      "metadata": {
        "id": "G1Hld6z3Hen2"
      }
    },
    {
      "cell_type": "code",
      "source": [
        "# Lists\n",
        "\n",
        "A = [1, 3, 5, 7, 8, 5, 2]\n",
        "\n",
        "# Last item\n",
        "print(A[-1])\n",
        "\n",
        "for index, value in enumerate(A):\n",
        "  print(f\"index: {index}, value: {value}\")"
      ],
      "metadata": {
        "colab": {
          "base_uri": "https://localhost:8080/"
        },
        "id": "omdxaVyYKJBT",
        "outputId": "26e8fe7b-39d3-4fe1-b2e7-cf9be76e8c07"
      },
      "execution_count": null,
      "outputs": [
        {
          "output_type": "stream",
          "name": "stdout",
          "text": [
            "2\n",
            "index: 0, value: 1\n",
            "index: 1, value: 3\n",
            "index: 2, value: 5\n",
            "index: 3, value: 7\n",
            "index: 4, value: 8\n",
            "index: 5, value: 5\n",
            "index: 6, value: 2\n"
          ]
        }
      ]
    },
    {
      "cell_type": "code",
      "source": [
        "# prompt: sort list A decreasing\n",
        "\n",
        "A.sort(reverse=True)\n",
        "A\n",
        "\n",
        "# Or\n",
        "\n",
        "sorted_A = sorted(A, reverse=True)\n",
        "sorted_A"
      ],
      "metadata": {
        "colab": {
          "base_uri": "https://localhost:8080/"
        },
        "id": "U3NeLz8xI-E5",
        "outputId": "f09199f2-c47c-4bc4-d583-e77f0ab6c806"
      },
      "execution_count": null,
      "outputs": [
        {
          "output_type": "execute_result",
          "data": {
            "text/plain": [
              "[8, 7, 5, 5, 3, 2, 1]"
            ]
          },
          "metadata": {},
          "execution_count": 3
        }
      ]
    },
    {
      "cell_type": "code",
      "source": [
        "# Sorting a list of tuples based on their second argument\n",
        "\n",
        "tuples = [(7, 3), (4, 1), (3, 2)]\n",
        "sorted_tuples = sorted(tuples, key=lambda x: x[1])\n",
        "print(sorted_tuples)"
      ],
      "metadata": {
        "colab": {
          "base_uri": "https://localhost:8080/"
        },
        "id": "2BzI14O89FTi",
        "outputId": "eeed9191-b7b3-4584-c551-8879b1cafddc"
      },
      "execution_count": null,
      "outputs": [
        {
          "output_type": "stream",
          "name": "stdout",
          "text": [
            "[(4, 1), (3, 2), (7, 3)]\n"
          ]
        }
      ]
    },
    {
      "cell_type": "code",
      "source": [
        "# Sorting a dictionary by keys\n",
        "my_dict = {'z': 2, 'a': 1, 'c': 3}\n",
        "for key, value in my_dict.items():\n",
        "  print(f\"key: {key}, value: {value}\")\n",
        "\n",
        "print(sorted(my_dict.items()))\n",
        "\n",
        "# Or:\n",
        "# Sorting a dictionary by keys\n",
        "my_dict = {'z': 2, 'a': 1, 'c': 3}\n",
        "print(sorted(my_dict.items(), key=lambda x: x[0]))"
      ],
      "metadata": {
        "colab": {
          "base_uri": "https://localhost:8080/"
        },
        "id": "RWJe-NFmHe0K",
        "outputId": "902a4dac-a45d-4eae-ac39-bbda1a91c6d4"
      },
      "execution_count": null,
      "outputs": [
        {
          "output_type": "stream",
          "name": "stdout",
          "text": [
            "key: z, value: 2\n",
            "key: a, value: 1\n",
            "key: c, value: 3\n",
            "[('a', 1), ('c', 3), ('z', 2)]\n",
            "[('a', 1), ('c', 3), ('z', 2)]\n"
          ]
        }
      ]
    },
    {
      "cell_type": "code",
      "source": [
        "# Sorting a dictionary by values\n",
        "my_dict = {'z': 2, 'a': 1, 'c': 3}\n",
        "print(sorted(my_dict.items(), key=lambda x: x[1]))\n",
        "\n"
      ],
      "metadata": {
        "colab": {
          "base_uri": "https://localhost:8080/"
        },
        "id": "9HOZOQQhHlgq",
        "outputId": "82866559-f7e3-4ca7-c1f4-7863d26fdb85"
      },
      "execution_count": null,
      "outputs": [
        {
          "output_type": "stream",
          "name": "stdout",
          "text": [
            "[('a', 1), ('z', 2), ('c', 3)]\n"
          ]
        }
      ]
    },
    {
      "cell_type": "code",
      "source": [
        "# prompt: search in my_dict and find max value. also find the item (key) with max value. also find # Find the value with the maximum key\n",
        "\n",
        "# Find the maximum value in the dictionary\n",
        "max_value = max(my_dict.values())\n",
        "print(f\"max_value: {max_value}\")\n",
        "\n",
        "# Find the key with the maximum value\n",
        "max_key = max(my_dict, key=my_dict.get)\n",
        "print(f\"max_key: {max_key}\")\n",
        "\n",
        "# Find the value with the maximum key\n",
        "max_key_value = my_dict[max(my_dict)]\n",
        "print(f\"max_key_value: {max_key_value}\")"
      ],
      "metadata": {
        "colab": {
          "base_uri": "https://localhost:8080/"
        },
        "id": "oTHQEK_ICvNX",
        "outputId": "4735f3db-bc13-4f9f-8159-3d5a09ce06f3"
      },
      "execution_count": null,
      "outputs": [
        {
          "output_type": "stream",
          "name": "stdout",
          "text": [
            "max_value: 3\n",
            "max_key: c\n",
            "max_key_value: 2\n"
          ]
        }
      ]
    },
    {
      "cell_type": "markdown",
      "source": [
        "### Looping backwards:"
      ],
      "metadata": {
        "id": "zCyi_IozBCoN"
      }
    },
    {
      "cell_type": "code",
      "source": [
        "A = [1, 3, 5, 7, 8, 5, 2]\n",
        "\n",
        "index = len(A) - 1\n",
        "for i in range(index, -1, -1):   # second argument is stopping point exclusive. # third argument is step.\n",
        "  print(A[i])"
      ],
      "metadata": {
        "colab": {
          "base_uri": "https://localhost:8080/"
        },
        "id": "w0QCYbJNBFL8",
        "outputId": "3feab5f5-4011-41ad-8284-7aaafb47266d"
      },
      "execution_count": null,
      "outputs": [
        {
          "output_type": "stream",
          "name": "stdout",
          "text": [
            "2\n",
            "5\n",
            "8\n",
            "7\n",
            "5\n",
            "3\n",
            "1\n"
          ]
        }
      ]
    },
    {
      "cell_type": "markdown",
      "source": [
        "## Unit testing"
      ],
      "metadata": {
        "id": "iT8fvPFbRkk5"
      }
    },
    {
      "cell_type": "code",
      "source": [
        "import unittest"
      ],
      "metadata": {
        "id": "bACNRvrCHtOG"
      },
      "execution_count": null,
      "outputs": []
    },
    {
      "cell_type": "code",
      "source": [
        "class TestSmallestPathFunction(unittest.TestCase):\n",
        "\n",
        "  def test_empty_A(self):\n",
        "    self.assertEqual(smallest_path([]), 0)\n",
        "\n",
        "  def test_large_A(self):\n",
        "    n = 1000\n",
        "    A = [[i+1 for i in range(n)] for _ in range(n)]\n",
        "    self.assertEqual(smallest_path(A), n)\n",
        "\n",
        "  def test_signle_element(self):\n",
        "    A = [[1]]\n",
        "    self.assertEqual(smallest_path(A), 1)\n",
        "\n",
        "# Run the tests\n",
        "unittest.main(argv=[''], verbosity=2, exit=False)\n"
      ],
      "metadata": {
        "colab": {
          "base_uri": "https://localhost:8080/"
        },
        "id": "qEZZpYEdRoHk",
        "outputId": "3ed17b29-589c-418e-bb09-1a4c41463cf3"
      },
      "execution_count": null,
      "outputs": [
        {
          "output_type": "stream",
          "name": "stderr",
          "text": [
            "test_empty_A (__main__.TestSmallestPathFunction) ... ok\n",
            "test_large_A (__main__.TestSmallestPathFunction) ... ok\n",
            "test_signle_element (__main__.TestSmallestPathFunction) ... ok\n",
            "\n",
            "----------------------------------------------------------------------\n",
            "Ran 3 tests in 2.566s\n",
            "\n",
            "OK\n"
          ]
        },
        {
          "output_type": "execute_result",
          "data": {
            "text/plain": [
              "<unittest.main.TestProgram at 0x7da68a785c60>"
            ]
          },
          "metadata": {},
          "execution_count": 67
        }
      ]
    },
    {
      "cell_type": "markdown",
      "source": [
        "## Dynamic Programming:\n",
        "\n",
        "Solutions:\n",
        "\n",
        "### 1) Top-Down (Memorization)\n",
        "\n",
        "\n",
        "### 2) Bottom-Up (Tabulization)"
      ],
      "metadata": {
        "id": "QFQZUKwnQIaE"
      }
    },
    {
      "cell_type": "markdown",
      "source": [
        "## Example: Knapsack (0/1) Problem"
      ],
      "metadata": {
        "id": "OkiuUXSzQSY6"
      }
    },
    {
      "cell_type": "code",
      "source": [
        "\n",
        "def knapsack(values: list[int], weights: list[int], W:int) -> int:\n",
        "  n = len(values)\n",
        "  if n==0:\n",
        "    return 0\n",
        "  dp = [[0] * (W+1) for _ in range(n+1)]\n",
        "\n",
        "  for i in range(1, n+1):\n",
        "    for w in range(1, W+1):\n",
        "      if weights[i-1] <= w:\n",
        "        dp[i][w] = max(dp[i-1][w], values[i-1] + dp[i-1][w - weights[i-1]])\n",
        "      else:\n",
        "        dp[i][w] = dp[i-1][w]\n",
        "\n",
        "  return dp[n][W]\n",
        "\n",
        "\n",
        "knapsack([1, 4, 5, 7], [1, 3, 4, 5], 7)"
      ],
      "metadata": {
        "colab": {
          "base_uri": "https://localhost:8080/"
        },
        "id": "lertDwL2QRqd",
        "outputId": "b1ef7799-78b8-46c4-9ee4-f31050a2389c"
      },
      "execution_count": null,
      "outputs": [
        {
          "output_type": "execute_result",
          "data": {
            "text/plain": [
              "9"
            ]
          },
          "metadata": {},
          "execution_count": 4
        }
      ]
    },
    {
      "cell_type": "markdown",
      "source": [],
      "metadata": {
        "id": "ZRAQUskLDJI1"
      }
    },
    {
      "cell_type": "code",
      "source": [
        "import unittest\n",
        "\n",
        "class TestKnapsackFunction(unittest.TestCase):\n",
        "  def test_example(self):\n",
        "    self.assertEqual(knapsack([1, 4, 5, 7], [1, 3, 4, 5], 7), 9)\n",
        "\n",
        "  def test_empty(self):\n",
        "    self.assertEqual(knapsack([],[],10), 0)\n",
        "\n",
        "\n",
        "# Run the tests\n",
        "unittest.main(argv=[''], verbosity=2, exit=False)\n"
      ],
      "metadata": {
        "colab": {
          "base_uri": "https://localhost:8080/"
        },
        "id": "5wBRpqyUYEob",
        "outputId": "39e6a511-8eec-4cd7-d57a-3093e490a999"
      },
      "execution_count": null,
      "outputs": [
        {
          "output_type": "stream",
          "name": "stderr",
          "text": [
            "test_empty (__main__.TestKnapsackFunction) ... ok\n",
            "test_example (__main__.TestKnapsackFunction) ... ok\n",
            "\n",
            "----------------------------------------------------------------------\n",
            "Ran 2 tests in 0.009s\n",
            "\n",
            "OK\n"
          ]
        },
        {
          "output_type": "execute_result",
          "data": {
            "text/plain": [
              "<unittest.main.TestProgram at 0x7f35bc380f70>"
            ]
          },
          "metadata": {},
          "execution_count": 5
        }
      ]
    },
    {
      "cell_type": "markdown",
      "source": [
        "## Example: Longest Common Subsequence (LCS)\n",
        "\n",
        "\n",
        "Given two sequences (usually strings), the goal is to find the length of the longest subsequence that is common to both sequences.\n",
        "\n",
        "A subsequence is a sequence derived from another sequence by deleting some elements (or none) without changing the order of the remaining elements. For example, the subsequences of \"ABC\" include \"A\", \"B\", \"C\", \"AB\", \"AC\", \"BC\", and \"ABC\".\n",
        "\n",
        "Example Problem\n",
        "Suppose we have two strings:\n",
        "\n",
        "String 1: \"ABCBDAB\"\n",
        "String 2: \"BDCABC\"\n",
        "The longest common subsequence (LCS) of these two strings is \"BCAB\" (or \"BDAB\", since there may be multiple correct answers), with a length of 4."
      ],
      "metadata": {
        "id": "wWO6jmQMiJ5W"
      }
    },
    {
      "cell_type": "code",
      "source": [
        "def LCS(S1, S2) -> int:\n",
        "\n",
        "  n, m= len(S1), len(S2)\n",
        "\n",
        "  if n==0 or m==0:\n",
        "    return 0\n",
        "\n",
        "  dp = [[0] * (m+1) for _ in range(n+1)]\n",
        "\n",
        "  for i in range(1, n+1):\n",
        "    for j in range(1, m+1):\n",
        "      if S1[i-1]==S2[j-1]:\n",
        "        dp[i][j] = dp[i-1][j-1] + 1\n",
        "      else:\n",
        "        dp[i][j] = max(dp[i-1][j], dp[i][j-1])\n",
        "\n",
        "  return dp[n][m]\n",
        "\n",
        "LCS(\"ABCBDAB\", \"BDCABC\")\n",
        "LCS(\"\",\"\")"
      ],
      "metadata": {
        "colab": {
          "base_uri": "https://localhost:8080/"
        },
        "id": "3Bpl8U6ZiPSA",
        "outputId": "852f8468-82d1-43bf-b65a-ff69b5b3fb64"
      },
      "execution_count": null,
      "outputs": [
        {
          "output_type": "execute_result",
          "data": {
            "text/plain": [
              "0"
            ]
          },
          "metadata": {},
          "execution_count": 23
        }
      ]
    },
    {
      "cell_type": "code",
      "source": [
        "import unittest\n",
        "\n",
        "class TestLCSFunction(unittest.TestCase):\n",
        "\n",
        "  def test_example(self):\n",
        "    self.assertEqual(LCS(\"ABCBDAB\", \"BDCABC\"), 4)\n",
        "\n",
        "  def test_empty(self):\n",
        "    self.assertEqual(LCS([], []), 0)\n",
        "\n",
        "\n",
        "unittest.main(argv=[''], verbosity=2, exit=False)"
      ],
      "metadata": {
        "colab": {
          "base_uri": "https://localhost:8080/"
        },
        "id": "4y3AhlZ4i9Ob",
        "outputId": "bf7152a1-2786-4868-dd96-d64f63b09108"
      },
      "execution_count": null,
      "outputs": [
        {
          "output_type": "stream",
          "name": "stderr",
          "text": [
            "test_empty (__main__.TestKnapsackFunction) ... ok\n",
            "test_example (__main__.TestKnapsackFunction) ... ok\n",
            "test_empty (__main__.TestLCSFunction) ... ok\n",
            "test_example (__main__.TestLCSFunction) ... ok\n",
            "\n",
            "----------------------------------------------------------------------\n",
            "Ran 4 tests in 0.014s\n",
            "\n",
            "OK\n"
          ]
        },
        {
          "output_type": "execute_result",
          "data": {
            "text/plain": [
              "<unittest.main.TestProgram at 0x78baf11a0310>"
            ]
          },
          "metadata": {},
          "execution_count": 20
        }
      ]
    },
    {
      "cell_type": "markdown",
      "source": [
        "## Example: Coin change\n",
        "\n",
        "The Coin Change Problem is a common dynamic programming problem that asks for the minimum number of coins needed to make up a given amount using a set of coin denominations.\n",
        "\n",
        "Problem Description\n",
        "Given:\n",
        "\n",
        "An integer array coins representing different denominations of coins (e.g., [1, 2, 5]).\n",
        "An integer amount representing the total amount of money.\n",
        "The objective is to determine the fewest number of coins needed to make up the amount. If it’s not possible to make up the amount with the given coins, return -1.\n",
        "\n",
        "Example Problem\n",
        "Suppose we have:\n",
        "\n",
        "Coins: [1, 2, 5]\n",
        "Amount: 11\n",
        "Output:\n",
        "\n",
        "The minimum number of coins required is 3."
      ],
      "metadata": {
        "id": "qRSvVvfiqdjl"
      }
    },
    {
      "cell_type": "code",
      "source": [
        "def coin_change(coins: list[int], amount: int) -> int:\n",
        "\n",
        "  n = len(coins)\n",
        "\n",
        "\n",
        "  dp = [float('inf')] * (amount+1)\n",
        "\n",
        "  # Base case:\n",
        "  dp[0] = 0\n",
        "\n",
        "  for c in coins:\n",
        "    for a in range(1, amount+1):\n",
        "      dp[a] = min(dp[a], dp[a-c]+1)\n",
        "\n",
        "  return dp[amount] if dp[amount] != float('inf') else -1\n",
        "\n",
        "coin_change([1, 2, 5], 11)\n"
      ],
      "metadata": {
        "colab": {
          "base_uri": "https://localhost:8080/"
        },
        "id": "XI2r7sIcqgSy",
        "outputId": "2dc793f1-bf10-4f6e-a435-b550fb489295"
      },
      "execution_count": null,
      "outputs": [
        {
          "output_type": "execute_result",
          "data": {
            "text/plain": [
              "3"
            ]
          },
          "metadata": {},
          "execution_count": 25
        }
      ]
    },
    {
      "cell_type": "markdown",
      "source": [
        "## Backtracking:\n",
        "Solve the Coin Change Problem with dynamic programming while also returning the subset of coins that make up the target amount"
      ],
      "metadata": {
        "id": "tDEh5O7bTjrA"
      }
    },
    {
      "cell_type": "code",
      "source": [
        "def coin_change_with_subset(coins, amount):\n",
        "    # Initialize dp array with a high value (representing infinity)\n",
        "    dp = [float('inf')] * (amount + 1)\n",
        "    dp[0] = 0  # Base case: 0 coins needed to make amount 0\n",
        "\n",
        "    # Array to track which coin was last used to make up each amount\n",
        "    backtrack = [-1] * (amount + 1)\n",
        "\n",
        "    # Fill dp and backtrack arrays\n",
        "    for coin in coins:\n",
        "        for i in range(coin, amount + 1):\n",
        "            if dp[i - coin] + 1 < dp[i]:\n",
        "                dp[i] = dp[i - coin] + 1\n",
        "                backtrack[i] = coin\n",
        "\n",
        "    # If it's impossible to make up the amount, return -1 and an empty list\n",
        "    if dp[amount] == float('inf'):\n",
        "        return -1, []\n",
        "\n",
        "    # Backtrack to find the coins used\n",
        "    subset = []\n",
        "    while amount > 0:\n",
        "        coin = backtrack[amount]\n",
        "        subset.append(coin)\n",
        "        amount -= coin\n",
        "\n",
        "    return dp[-1], subset\n",
        "\n",
        "coin_change_with_subset([1, 2, 5], 11)"
      ],
      "metadata": {
        "colab": {
          "base_uri": "https://localhost:8080/"
        },
        "id": "zx5ZIu53Tj2C",
        "outputId": "4dc34d14-4b37-4aed-b371-711cee134df0"
      },
      "execution_count": null,
      "outputs": [
        {
          "output_type": "execute_result",
          "data": {
            "text/plain": [
              "(3, [5, 5, 1])"
            ]
          },
          "metadata": {},
          "execution_count": 27
        }
      ]
    },
    {
      "cell_type": "markdown",
      "source": [
        "# BFS"
      ],
      "metadata": {
        "id": "IELUe1-JdsPG"
      }
    },
    {
      "cell_type": "code",
      "source": [
        "from collections import deque\n",
        "\n",
        "def bfs(graph, start):\n",
        "    visited = set()  # Track visited nodes\n",
        "    queue = deque([start])  # Initialize the queue with the starting node\n",
        "    visited.add(start)  # Mark the start node as visited\n",
        "\n",
        "    while queue:\n",
        "        node = queue.popleft()  # Dequeue a node\n",
        "        print(node, end=\" \")  # Process the node (here we just print it)\n",
        "\n",
        "        for neighbor in graph[node]:  # Check all neighbors\n",
        "            if neighbor not in visited:\n",
        "                visited.add(neighbor)\n",
        "                queue.append(neighbor)  # Enqueue unvisited neighbors\n",
        "\n",
        "# Example graph represented as an adjacency list\n",
        "graph = {\n",
        "    'A': ['B', 'C'],\n",
        "    'B': ['A', 'D', 'E'],\n",
        "    'C': ['A', 'F'],\n",
        "    'D': ['B'],\n",
        "    'E': ['B', 'F'],\n",
        "    'F': ['C', 'E']\n",
        "}\n",
        "\n",
        "# Run BFS\n",
        "print(\"BFS Traversal:\")\n",
        "bfs(graph, 'A')"
      ],
      "metadata": {
        "colab": {
          "base_uri": "https://localhost:8080/"
        },
        "id": "7ROW6FxYdttL",
        "outputId": "0923e04b-a9aa-4140-f8dd-766409d56821"
      },
      "execution_count": null,
      "outputs": [
        {
          "output_type": "stream",
          "name": "stdout",
          "text": [
            "BFS Traversal:\n",
            "A B C D E F "
          ]
        }
      ]
    },
    {
      "cell_type": "markdown",
      "source": [
        "# DFS"
      ],
      "metadata": {
        "id": "zdVCwfV6duQA"
      }
    },
    {
      "cell_type": "code",
      "source": [
        "def dfs_iterative(graph, start):\n",
        "    visited = set()  # Track visited nodes\n",
        "    stack = [start]  # Initialize the stack with the starting node\n",
        "\n",
        "    while stack:\n",
        "        node = stack.pop()  # Pop a node\n",
        "        if node not in visited:\n",
        "            print(node, end=\" \")  # Process the node (here we just print it)\n",
        "            visited.add(node)  # Mark it as visited\n",
        "\n",
        "            # Add unvisited neighbors to the stack\n",
        "            for neighbor in reversed(graph[node]):\n",
        "                if neighbor not in visited:\n",
        "                    # print(f\"\\nstacked: {neighbor}\")\n",
        "                    stack.append(neighbor)\n",
        "\n",
        "# Example graph represented as an adjacency list (same as before)\n",
        "graph = {\n",
        "    'A': ['B', 'C'],\n",
        "    'B': ['A', 'D', 'E'],\n",
        "    'C': ['A', 'F'],\n",
        "    'D': ['B'],\n",
        "    'E': ['B', 'F'],\n",
        "    'F': ['C', 'E']\n",
        "}\n",
        "\n",
        "# Run DFS\n",
        "print(\"\\nDFS Traversal (Iterative):\")\n",
        "dfs_iterative(graph, 'A')\n"
      ],
      "metadata": {
        "colab": {
          "base_uri": "https://localhost:8080/"
        },
        "id": "-dtztO_rdvCi",
        "outputId": "ff7d1a8c-5d40-4dba-a067-031211d604e1"
      },
      "execution_count": null,
      "outputs": [
        {
          "output_type": "stream",
          "name": "stdout",
          "text": [
            "\n",
            "DFS Traversal (Iterative):\n",
            "A B D E F C "
          ]
        }
      ]
    },
    {
      "cell_type": "markdown",
      "source": [
        "# Dijkstra\n",
        "### Uses a min-heap (priority queue) data structure.\n",
        "\n",
        "Define the priority queue as tuples (distances, node)\n"
      ],
      "metadata": {
        "id": "-kP6ihlc_J4h"
      }
    },
    {
      "cell_type": "code",
      "source": [
        "import heapq\n",
        "\n",
        "def dijkstra(graph, start):\n",
        "    # Initialize distances dictionary with infinity for each node, except the start node\n",
        "    distances = {node: float('inf') for node in graph}\n",
        "    distances[start] = 0  # Distance to the start node is 0\n",
        "\n",
        "    # Priority queue to store (distance, node) tuples\n",
        "    priority_queue = [(0, start)]  # Start with the source node\n",
        "\n",
        "    while priority_queue:\n",
        "        current_distance, current_node = heapq.heappop(priority_queue)\n",
        "\n",
        "        # If the popped node's distance is greater than the stored distance, skip it\n",
        "        if current_distance > distances[current_node]:\n",
        "            continue\n",
        "\n",
        "        # Check neighbors of the current node\n",
        "        for neighbor, weight in graph[current_node].items():\n",
        "            distance = current_distance + weight\n",
        "\n",
        "            # Only update if the new distance is shorter\n",
        "            if distance < distances[neighbor]:\n",
        "                distances[neighbor] = distance\n",
        "                heapq.heappush(priority_queue, (distance, neighbor))\n",
        "\n",
        "    return distances\n"
      ],
      "metadata": {
        "id": "3r8TM1Ka_Ude"
      },
      "execution_count": null,
      "outputs": []
    },
    {
      "cell_type": "code",
      "source": [
        "graph = {\n",
        "    'A': {'B': 1, 'C': 4},\n",
        "    'B': {'A': 1, 'C': 2, 'D': 5},\n",
        "    'C': {'A': 4, 'B': 2, 'D': 1},\n",
        "    'D': {'B': 5, 'C': 1}\n",
        "}\n",
        "\n",
        "start_node = 'A'\n",
        "distances = dijkstra(graph, start_node)\n",
        "print(\"Shortest distances from A:\", distances)\n"
      ],
      "metadata": {
        "colab": {
          "base_uri": "https://localhost:8080/"
        },
        "id": "ts1na10o_b2c",
        "outputId": "6ab2bb37-462a-456f-8416-83075aef0e77"
      },
      "execution_count": null,
      "outputs": [
        {
          "output_type": "stream",
          "name": "stdout",
          "text": [
            "Shortest distances from A: {'A': 0, 'B': 1, 'C': 3, 'D': 4}\n"
          ]
        }
      ]
    },
    {
      "cell_type": "markdown",
      "source": [
        "# Greedy Algorithms\n",
        "\n",
        "### Example: Bag of Tokens\n",
        "LeetCode #948\n",
        "https://leetcode.com/problems/bag-of-tokens/"
      ],
      "metadata": {
        "id": "j2FSO2ElDKcR"
      }
    },
    {
      "cell_type": "code",
      "source": [],
      "metadata": {
        "id": "2gA3VeTmDL0I"
      },
      "execution_count": null,
      "outputs": []
    },
    {
      "cell_type": "markdown",
      "source": [
        "### Question:\n",
        "\n",
        "Given an array, find a local minimum.\n",
        "\n",
        "1st Answer: O(n)\n",
        "\n",
        "Efficient answer:\n",
        "\n",
        "- O(logn)\n",
        "- Binary search: At each iteration, look at the midpoint, and its left and right, whichever is smaller than it, recurse on the portion on that side."
      ],
      "metadata": {
        "id": "NhMOZ2RJJJyF"
      }
    },
    {
      "cell_type": "code",
      "source": [
        "def local_minimum(A):\n",
        "  temp = A\n",
        "  while len(temp)>2:\n",
        "    m = len(temp)//2\n",
        "    print(f'm: {m}')\n",
        "    if temp[m] <= temp[m-1] and temp[m]<=temp[m+1]:\n",
        "      return temp[m]\n",
        "    elif temp[m-1]<temp[m]:\n",
        "      temp = temp[0:m]\n",
        "    else:\n",
        "      temp = temp[m+1:]\n",
        "    print(temp)\n",
        "\n",
        "  return min(temp[0], temp[1])"
      ],
      "metadata": {
        "id": "ql2nxwWoNSvR"
      },
      "execution_count": null,
      "outputs": []
    },
    {
      "cell_type": "code",
      "source": [
        "# Example usage\n",
        "# arr = [9, 7, 2, 3, 5]\n",
        "# arr = [9, 10, 11, 13, 12]\n",
        "arr = [9, 10, 11, 12, 10, 9]\n",
        "\n",
        "local_min = local_minimum(arr)\n",
        "print(\"Local minimum:\", local_min)"
      ],
      "metadata": {
        "colab": {
          "base_uri": "https://localhost:8080/",
          "height": 349
        },
        "id": "LunEt7lROnVI",
        "outputId": "1c097026-9083-489d-e0fb-4412f5027384"
      },
      "execution_count": null,
      "outputs": [
        {
          "output_type": "stream",
          "name": "stdout",
          "text": [
            "m: 3\n",
            "[9, 10, 11]\n",
            "m: 1\n",
            "[9]\n"
          ]
        },
        {
          "output_type": "error",
          "ename": "IndexError",
          "evalue": "list index out of range",
          "traceback": [
            "\u001b[0;31m---------------------------------------------------------------------------\u001b[0m",
            "\u001b[0;31mIndexError\u001b[0m                                Traceback (most recent call last)",
            "\u001b[0;32m<ipython-input-24-55c1606e9877>\u001b[0m in \u001b[0;36m<cell line: 6>\u001b[0;34m()\u001b[0m\n\u001b[1;32m      4\u001b[0m \u001b[0marr\u001b[0m \u001b[0;34m=\u001b[0m \u001b[0;34m[\u001b[0m\u001b[0;36m9\u001b[0m\u001b[0;34m,\u001b[0m \u001b[0;36m10\u001b[0m\u001b[0;34m,\u001b[0m \u001b[0;36m11\u001b[0m\u001b[0;34m,\u001b[0m \u001b[0;36m12\u001b[0m\u001b[0;34m,\u001b[0m \u001b[0;36m10\u001b[0m\u001b[0;34m,\u001b[0m \u001b[0;36m9\u001b[0m\u001b[0;34m]\u001b[0m\u001b[0;34m\u001b[0m\u001b[0;34m\u001b[0m\u001b[0m\n\u001b[1;32m      5\u001b[0m \u001b[0;34m\u001b[0m\u001b[0m\n\u001b[0;32m----> 6\u001b[0;31m \u001b[0mlocal_min\u001b[0m \u001b[0;34m=\u001b[0m \u001b[0mlocal_minimum\u001b[0m\u001b[0;34m(\u001b[0m\u001b[0marr\u001b[0m\u001b[0;34m)\u001b[0m\u001b[0;34m\u001b[0m\u001b[0;34m\u001b[0m\u001b[0m\n\u001b[0m\u001b[1;32m      7\u001b[0m \u001b[0mprint\u001b[0m\u001b[0;34m(\u001b[0m\u001b[0;34m\"Local minimum:\"\u001b[0m\u001b[0;34m,\u001b[0m \u001b[0mlocal_min\u001b[0m\u001b[0;34m)\u001b[0m\u001b[0;34m\u001b[0m\u001b[0;34m\u001b[0m\u001b[0m\n",
            "\u001b[0;32m<ipython-input-22-5d070f0a6558>\u001b[0m in \u001b[0;36mlocal_minimum\u001b[0;34m(A)\u001b[0m\n\u001b[1;32m     12\u001b[0m     \u001b[0mprint\u001b[0m\u001b[0;34m(\u001b[0m\u001b[0mtemp\u001b[0m\u001b[0;34m)\u001b[0m\u001b[0;34m\u001b[0m\u001b[0;34m\u001b[0m\u001b[0m\n\u001b[1;32m     13\u001b[0m \u001b[0;34m\u001b[0m\u001b[0m\n\u001b[0;32m---> 14\u001b[0;31m   \u001b[0;32mreturn\u001b[0m \u001b[0mmin\u001b[0m\u001b[0;34m(\u001b[0m\u001b[0mtemp\u001b[0m\u001b[0;34m[\u001b[0m\u001b[0;36m0\u001b[0m\u001b[0;34m]\u001b[0m\u001b[0;34m,\u001b[0m \u001b[0mtemp\u001b[0m\u001b[0;34m[\u001b[0m\u001b[0;36m1\u001b[0m\u001b[0;34m]\u001b[0m\u001b[0;34m)\u001b[0m\u001b[0;34m\u001b[0m\u001b[0;34m\u001b[0m\u001b[0m\n\u001b[0m",
            "\u001b[0;31mIndexError\u001b[0m: list index out of range"
          ]
        }
      ]
    }
  ]
}
